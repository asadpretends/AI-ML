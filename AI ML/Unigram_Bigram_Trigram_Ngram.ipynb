{
 "cells": [
  {
   "cell_type": "code",
   "execution_count": 10,
   "id": "e93fb475",
   "metadata": {},
   "outputs": [],
   "source": [
    "import nltk\n",
    "from sklearn.feature_extraction.text import CountVectorizer"
   ]
  },
  {
   "cell_type": "code",
   "execution_count": 11,
   "id": "5fb0242c",
   "metadata": {},
   "outputs": [],
   "source": [
    "text =  \"\"\"<s> I am Sam </s> <s> Sam I am </s> <s> I do not like green eggs and ham </s>\"\"\""
   ]
  },
  {
   "cell_type": "code",
   "execution_count": 12,
   "id": "661b40e9",
   "metadata": {},
   "outputs": [],
   "source": [
    "import re\n",
    "# Remove all non-alphanumeric characters and convert to lowercase\n",
    "text = re.sub(r\"[^a-zA-Z0-9-<>/]\", \" \", text.lower())\n",
    "# Split the text into individual words\n",
    "words = text.split()\n"
   ]
  },
  {
   "cell_type": "code",
   "execution_count": 13,
   "id": "2a8ecab5",
   "metadata": {},
   "outputs": [],
   "source": [
    "unigram_model = {}\n",
    "bigram_model = {}\n",
    "trigram_model = {}\n",
    "ngram_model = {}"
   ]
  },
  {
   "cell_type": "code",
   "execution_count": 14,
   "id": "eebfa954",
   "metadata": {},
   "outputs": [
    {
     "name": "stdout",
     "output_type": "stream",
     "text": [
      "{'<s>': 3, 'i': 3, 'am': 2, 'sam': 2, '</s>': 3, 'do': 1, 'not': 1, 'like': 1, 'green': 1, 'eggs': 1, 'and': 1, 'ham': 1}\n"
     ]
    }
   ],
   "source": [
    "for token in words:\n",
    "    # Increment the count of the token in the unigram model\n",
    "    unigram_model[token] = unigram_model.get(token, 0) + 1\n",
    "\n",
    "# Print the unigram model\n",
    "print(unigram_model)"
   ]
  },
  {
   "cell_type": "code",
   "execution_count": 15,
   "id": "5220611b",
   "metadata": {},
   "outputs": [],
   "source": [
    "for i in range(len(words)-1):\n",
    "    current_token = words[i]\n",
    "    next_token = words[i+1]\n",
    "    \n",
    "    if current_token not in bigram_model:\n",
    "        bigram_model[current_token] = {}\n",
    "        bigram_model[current_token][next_token] = bigram_model[current_token].get(next_token,0)+1"
   ]
  },
  {
   "cell_type": "code",
   "execution_count": 16,
   "id": "2f7b0c19",
   "metadata": {},
   "outputs": [
    {
     "name": "stdout",
     "output_type": "stream",
     "text": [
      "{'<s>': {'i': 1}, 'i': {'am': 1}, 'am': {'sam': 1}, 'sam': {'</s>': 1}, '</s>': {'<s>': 1}, 'do': {'not': 1}, 'not': {'like': 1}, 'like': {'green': 1}, 'green': {'eggs': 1}, 'eggs': {'and': 1}, 'and': {'ham': 1}, 'ham': {'</s>': 1}}\n"
     ]
    }
   ],
   "source": [
    "print(bigram_model)"
   ]
  },
  {
   "cell_type": "code",
   "execution_count": 17,
   "id": "b12ce98e",
   "metadata": {},
   "outputs": [],
   "source": [
    "for i in range(len(words)-2):\n",
    "    current_token = words[i]\n",
    "    next_token = words[i+1]\n",
    "    next_next_token = words[i+2]\n",
    "    \n",
    "    if (current_token,next_token) not in trigram_model:\n",
    "        trigram_model[current_token,next_token] = {}\n",
    "        trigram_model[current_token,next_token][next_next_token] = trigram_model[current_token,next_token].get(next_next_token,0)+1"
   ]
  },
  {
   "cell_type": "code",
   "execution_count": 18,
   "id": "f6343357",
   "metadata": {},
   "outputs": [
    {
     "name": "stdout",
     "output_type": "stream",
     "text": [
      "{('<s>', 'i'): {'am': 1}, ('i', 'am'): {'sam': 1}, ('am', 'sam'): {'</s>': 1}, ('sam', '</s>'): {'<s>': 1}, ('</s>', '<s>'): {'sam': 1}, ('<s>', 'sam'): {'i': 1}, ('sam', 'i'): {'am': 1}, ('am', '</s>'): {'<s>': 1}, ('i', 'do'): {'not': 1}, ('do', 'not'): {'like': 1}, ('not', 'like'): {'green': 1}, ('like', 'green'): {'eggs': 1}, ('green', 'eggs'): {'and': 1}, ('eggs', 'and'): {'ham': 1}, ('and', 'ham'): {'</s>': 1}}\n"
     ]
    }
   ],
   "source": [
    "print(trigram_model)"
   ]
  },
  {
   "cell_type": "code",
   "execution_count": null,
   "id": "eaa421ea",
   "metadata": {},
   "outputs": [],
   "source": []
  }
 ],
 "metadata": {
  "kernelspec": {
   "display_name": "Python 3 (ipykernel)",
   "language": "python",
   "name": "python3"
  },
  "language_info": {
   "codemirror_mode": {
    "name": "ipython",
    "version": 3
   },
   "file_extension": ".py",
   "mimetype": "text/x-python",
   "name": "python",
   "nbconvert_exporter": "python",
   "pygments_lexer": "ipython3",
   "version": "3.9.13"
  }
 },
 "nbformat": 4,
 "nbformat_minor": 5
}
