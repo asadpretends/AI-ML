{
 "cells": [
  {
   "cell_type": "code",
   "execution_count": 1,
   "id": "2ed99b2b",
   "metadata": {},
   "outputs": [],
   "source": [
    "from sklearn.datasets import load_digits\n",
    "from sklearn.model_selection import train_test_split\n",
    "from sklearn.preprocessing import StandardScaler\n",
    "from matplotlib.colors import ListedColormap\n",
    "import matplotlib.pyplot as plt\n",
    "import torch\n",
    "import torch.optim as optim\n",
    "import torch.nn as nn\n",
    "import torch.nn.functional as F\n",
    "from torch.utils.data import DataLoader, TensorDataset,Dataset\n",
    "import numpy as np\n",
    "from sklearn.metrics import accuracy_score, confusion_matrix, precision_recall_curve\n",
    "#Class to load the dataset images from drivce\n",
    "import os\n",
    "import cv2\n",
    "import numpy as np\n",
    "\n",
    "from imutils import paths\n",
    "from sklearn.preprocessing import LabelEncoder\n",
    "from sklearn.model_selection import train_test_split\n"
   ]
  },
  {
   "cell_type": "code",
   "execution_count": 2,
   "id": "87e264fb",
   "metadata": {},
   "outputs": [],
   "source": [
    "def unpickle(file):\n",
    "    import pickle\n",
    "    with open(file, 'rb') as fo:\n",
    "        dict = pickle.load(fo, encoding='latin')\n",
    "    return dict"
   ]
  },
  {
   "cell_type": "code",
   "execution_count": 3,
   "id": "e69e9a9a",
   "metadata": {},
   "outputs": [],
   "source": [
    "def load_batch_file(batch_filename):\n",
    "    filepath = os.path.join('./cifar-10-batches-py/', batch_filename)\n",
    "    unpickled = unpickle(filepath)\n",
    "    return unpickled"
   ]
  },
  {
   "cell_type": "code",
   "execution_count": 13,
   "id": "558170a8",
   "metadata": {},
   "outputs": [
    {
     "ename": "AttributeError",
     "evalue": "'dict' object has no attribute 'head'",
     "output_type": "error",
     "traceback": [
      "\u001b[1;31m---------------------------------------------------------------------------\u001b[0m",
      "\u001b[1;31mAttributeError\u001b[0m                            Traceback (most recent call last)",
      "Input \u001b[1;32mIn [13]\u001b[0m, in \u001b[0;36m<cell line: 8>\u001b[1;34m()\u001b[0m\n\u001b[0;32m      5\u001b[0m train_batch_5 \u001b[38;5;241m=\u001b[39m load_batch_file(\u001b[38;5;124m'\u001b[39m\u001b[38;5;124m./data_batch_5\u001b[39m\u001b[38;5;124m'\u001b[39m)\n\u001b[0;32m      6\u001b[0m test_batch \u001b[38;5;241m=\u001b[39m load_batch_file(\u001b[38;5;124m'\u001b[39m\u001b[38;5;124m./test_batch\u001b[39m\u001b[38;5;124m'\u001b[39m)\n\u001b[1;32m----> 8\u001b[0m \u001b[43mtrain_batch_1\u001b[49m\u001b[38;5;241;43m.\u001b[39;49m\u001b[43mhead\u001b[49m\n",
      "\u001b[1;31mAttributeError\u001b[0m: 'dict' object has no attribute 'head'"
     ]
    }
   ],
   "source": [
    "train_batch_1 = load_batch_file('./data_batch_1')\n",
    "train_batch_2 = load_batch_file('./data_batch_2')\n",
    "train_batch_3 = load_batch_file('./data_batch_3')\n",
    "train_batch_4 = load_batch_file('./data_batch_4')\n",
    "train_batch_5 = load_batch_file('./data_batch_5')\n",
    "test_batch = load_batch_file('./test_batch')"
   ]
  },
  {
   "cell_type": "code",
   "execution_count": 6,
   "id": "4f7c2468",
   "metadata": {},
   "outputs": [],
   "source": [
    "train_x = np.concatenate([train_batch_1['data'],train_batch_2['data'],train_batch_3['data'],train_batch_4['data'],train_batch_5['data']])\n",
    "train_y = np.concatenate([train_batch_1['labels'],train_batch_2['labels'],train_batch_3['labels'],train_batch_4['labels'],train_batch_5['labels']])"
   ]
  },
  {
   "cell_type": "code",
   "execution_count": 12,
   "id": "80595752",
   "metadata": {},
   "outputs": [
    {
     "ename": "AttributeError",
     "evalue": "'numpy.ndarray' object has no attribute 'head'",
     "output_type": "error",
     "traceback": [
      "\u001b[1;31m---------------------------------------------------------------------------\u001b[0m",
      "\u001b[1;31mAttributeError\u001b[0m                            Traceback (most recent call last)",
      "Input \u001b[1;32mIn [12]\u001b[0m, in \u001b[0;36m<cell line: 1>\u001b[1;34m()\u001b[0m\n\u001b[1;32m----> 1\u001b[0m \u001b[43mtrain_x\u001b[49m\u001b[38;5;241;43m.\u001b[39;49m\u001b[43mhead\u001b[49m\n",
      "\u001b[1;31mAttributeError\u001b[0m: 'numpy.ndarray' object has no attribute 'head'"
     ]
    }
   ],
   "source": []
  },
  {
   "cell_type": "code",
   "execution_count": 8,
   "id": "863fb961",
   "metadata": {},
   "outputs": [
    {
     "data": {
      "text/plain": [
       "(50000,)"
      ]
     },
     "execution_count": 8,
     "metadata": {},
     "output_type": "execute_result"
    }
   ],
   "source": [
    "train_y.shape"
   ]
  },
  {
   "cell_type": "code",
   "execution_count": 6,
   "id": "b51b8106",
   "metadata": {},
   "outputs": [],
   "source": [
    "from sklearn.neural_network import MLPClassifier"
   ]
  },
  {
   "cell_type": "code",
   "execution_count": 7,
   "id": "b0a9f261",
   "metadata": {},
   "outputs": [],
   "source": [
    "clf = MLPClassifier(solver='adam', alpha=0.01,\n",
    "                     hidden_layer_sizes=(1536,786),random_state=1,activation = 'relu',max_iter = 10,verbose=True)"
   ]
  },
  {
   "cell_type": "code",
   "execution_count": 10,
   "id": "dc268889",
   "metadata": {},
   "outputs": [
    {
     "name": "stdout",
     "output_type": "stream",
     "text": [
      "Iteration 1, loss = 8.87377651\n",
      "Iteration 2, loss = 2.26514723\n",
      "Iteration 3, loss = 1.97409969\n",
      "Iteration 4, loss = 1.88248022\n",
      "Iteration 5, loss = 1.82489164\n",
      "Iteration 6, loss = 1.78523852\n",
      "Iteration 7, loss = 1.76772042\n",
      "Iteration 8, loss = 1.75820908\n",
      "Iteration 9, loss = 1.75786337\n",
      "Iteration 10, loss = 1.81854123\n"
     ]
    },
    {
     "name": "stderr",
     "output_type": "stream",
     "text": [
      "C:\\Users\\Sebastain\\anaconda3\\lib\\site-packages\\sklearn\\neural_network\\_multilayer_perceptron.py:692: ConvergenceWarning: Stochastic Optimizer: Maximum iterations (10) reached and the optimization hasn't converged yet.\n",
      "  warnings.warn(\n"
     ]
    },
    {
     "data": {
      "text/plain": [
       "MLPClassifier(alpha=0.01, hidden_layer_sizes=(1536, 786), max_iter=10,\n",
       "              random_state=1, verbose=True)"
      ]
     },
     "execution_count": 10,
     "metadata": {},
     "output_type": "execute_result"
    }
   ],
   "source": [
    "clf.fit(train_x, train_y)"
   ]
  },
  {
   "cell_type": "code",
   "execution_count": 78,
   "id": "32ebff9e",
   "metadata": {},
   "outputs": [],
   "source": [
    "test_x = np.concatenate([test_batch['data']])\n",
    "test_y = np.concatenate([test_batch['labels']])"
   ]
  },
  {
   "cell_type": "code",
   "execution_count": 80,
   "id": "3ea9d70b",
   "metadata": {},
   "outputs": [],
   "source": [
    "Y_pred = clf.predict(test_x)"
   ]
  },
  {
   "cell_type": "code",
   "execution_count": 81,
   "id": "cf2f1435",
   "metadata": {},
   "outputs": [],
   "source": [
    "accuracy = accuracy_score(test_y, Y_pred) "
   ]
  },
  {
   "cell_type": "code",
   "execution_count": 82,
   "id": "cd044fcf",
   "metadata": {},
   "outputs": [
    {
     "name": "stdout",
     "output_type": "stream",
     "text": [
      "0.1553\n"
     ]
    }
   ],
   "source": [
    "print(accuracy)"
   ]
  },
  {
   "cell_type": "code",
   "execution_count": 83,
   "id": "9c51a78b",
   "metadata": {},
   "outputs": [
    {
     "name": "stdout",
     "output_type": "stream",
     "text": [
      "              precision    recall  f1-score   support\n",
      "\n",
      "           0       0.07      0.00      0.01      1000\n",
      "           1       0.18      0.43      0.26      1000\n",
      "           2       0.11      0.01      0.01      1000\n",
      "           3       0.20      0.04      0.06      1000\n",
      "           4       0.24      0.13      0.17      1000\n",
      "           5       0.13      0.54      0.21      1000\n",
      "           6       0.00      0.00      0.00      1000\n",
      "           7       0.15      0.38      0.22      1000\n",
      "           8       0.00      0.00      0.00      1000\n",
      "           9       0.45      0.02      0.04      1000\n",
      "\n",
      "    accuracy                           0.16     10000\n",
      "   macro avg       0.15      0.16      0.10     10000\n",
      "weighted avg       0.15      0.16      0.10     10000\n",
      "\n"
     ]
    },
    {
     "name": "stderr",
     "output_type": "stream",
     "text": [
      "C:\\Users\\Sebastain\\anaconda3\\lib\\site-packages\\sklearn\\metrics\\_classification.py:1318: UndefinedMetricWarning: Precision and F-score are ill-defined and being set to 0.0 in labels with no predicted samples. Use `zero_division` parameter to control this behavior.\n",
      "  _warn_prf(average, modifier, msg_start, len(result))\n",
      "C:\\Users\\Sebastain\\anaconda3\\lib\\site-packages\\sklearn\\metrics\\_classification.py:1318: UndefinedMetricWarning: Precision and F-score are ill-defined and being set to 0.0 in labels with no predicted samples. Use `zero_division` parameter to control this behavior.\n",
      "  _warn_prf(average, modifier, msg_start, len(result))\n",
      "C:\\Users\\Sebastain\\anaconda3\\lib\\site-packages\\sklearn\\metrics\\_classification.py:1318: UndefinedMetricWarning: Precision and F-score are ill-defined and being set to 0.0 in labels with no predicted samples. Use `zero_division` parameter to control this behavior.\n",
      "  _warn_prf(average, modifier, msg_start, len(result))\n"
     ]
    }
   ],
   "source": [
    "from sklearn.metrics import classification_report\n",
    "\n",
    "report = classification_report(test_y, Y_pred)\n",
    "print(report)"
   ]
  },
  {
   "cell_type": "code",
   "execution_count": null,
   "id": "dd96becb",
   "metadata": {},
   "outputs": [],
   "source": []
  }
 ],
 "metadata": {
  "kernelspec": {
   "display_name": "Python 3 (ipykernel)",
   "language": "python",
   "name": "python3"
  },
  "language_info": {
   "codemirror_mode": {
    "name": "ipython",
    "version": 3
   },
   "file_extension": ".py",
   "mimetype": "text/x-python",
   "name": "python",
   "nbconvert_exporter": "python",
   "pygments_lexer": "ipython3",
   "version": "3.9.12"
  }
 },
 "nbformat": 4,
 "nbformat_minor": 5
}
