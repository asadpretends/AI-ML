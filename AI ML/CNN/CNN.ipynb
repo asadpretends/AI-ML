{
 "cells": [
  {
   "cell_type": "code",
   "execution_count": 114,
   "metadata": {},
   "outputs": [],
   "source": [
    "import torch\n",
    "import torchvision"
   ]
  },
  {
   "cell_type": "code",
   "execution_count": 115,
   "metadata": {},
   "outputs": [
    {
     "data": {
      "text/plain": [
       "<torch._C.Generator at 0x17fc0da5e10>"
      ]
     },
     "execution_count": 115,
     "metadata": {},
     "output_type": "execute_result"
    }
   ],
   "source": [
    "n_epochs = 10\n",
    "batch_size_train = 64\n",
    "batch_size_test = 1000\n",
    "learning_rate = 0.01\n",
    "momentum = 0.5\n",
    "log_interval = 10\n",
    "\n",
    "random_seed = 1\n",
    "torch.backends.cudnn.enabled = False\n",
    "torch.manual_seed(random_seed)"
   ]
  },
  {
   "cell_type": "markdown",
   "metadata": {},
   "source": [
    "Now we'll also need DataLoaders for the dataset. This is where TorchVision comes into play. It let's use load the MNIST dataset in a handy way. We'll use a batch_size of 64 for training and size 1000 for testing on this dataset. The values 0.1307 and 0.3081 used for the Normalize() transformation below are the global mean and standard deviation of the MNIST dataset, we'll take them as a given here.\n",
    "\n",
    "TorchVision offers a lot of handy transformations, such as cropping or normalization."
   ]
  },
  {
   "cell_type": "code",
   "execution_count": 116,
   "metadata": {},
   "outputs": [],
   "source": [
    "train_loader = torch.utils.data.DataLoader(\n",
    "  torchvision.datasets.MNIST('/files/', train=True, download=True,\n",
    "                             transform=torchvision.transforms.Compose([\n",
    "                               torchvision.transforms.ToTensor(),\n",
    "                               torchvision.transforms.Normalize(\n",
    "                                 (0.1307,), (0.3081,))\n",
    "                             ])),\n",
    "  batch_size=batch_size_train, shuffle=True)\n",
    "\n",
    "test_loader = torch.utils.data.DataLoader(\n",
    "  torchvision.datasets.MNIST('/files/', train=False, download=True,\n",
    "                             transform=torchvision.transforms.Compose([\n",
    "                               torchvision.transforms.ToTensor(),\n",
    "                               torchvision.transforms.Normalize(\n",
    "                                 (0.1307,), (0.3081,))\n",
    "                             ])),\n",
    "  batch_size=batch_size_test, shuffle=True)"
   ]
  },
  {
   "cell_type": "code",
   "execution_count": 117,
   "metadata": {},
   "outputs": [
    {
     "data": {
      "text/plain": [
       "torch.Size([1000, 1, 28, 28])"
      ]
     },
     "execution_count": 117,
     "metadata": {},
     "output_type": "execute_result"
    }
   ],
   "source": [
    "# Now let's take a look at some examples. We'll use the test_loader for this.\n",
    "examples = enumerate(test_loader)\n",
    "batch_idx, (example_data, example_targets) = next(examples)\n",
    "example_data.shape\n",
    "\n",
    "# example_targets.shape"
   ]
  },
  {
   "cell_type": "code",
   "execution_count": 118,
   "metadata": {},
   "outputs": [
    {
     "data": {
      "image/png": "[encoded data removed]",
      "text/plain": [
       "<Figure size 432x288 with 6 Axes>"
      ]
     },
     "execution_count": 118,
     "metadata": {},
     "output_type": "execute_result"
    },
    {
     "data": {
      "image/png": "[encoded data removed]",
      "text/plain": [
       "<Figure size 432x288 with 6 Axes>"
      ]
     },
     "metadata": {},
     "output_type": "display_data"
    }
   ],
   "source": [
    "import matplotlib.pyplot as plt\n",
    "\n",
    "fig = plt.figure()\n",
    "for i in range(6):\n",
    "  plt.subplot(2,3,i+1)\n",
    "  plt.tight_layout()\n",
    "  plt.imshow(example_data[i][0], cmap='gray', interpolation='none')\n",
    "  plt.title(\"Ground Truth: {}\".format(example_targets[i]))\n",
    "  plt.xticks([])\n",
    "  plt.yticks([])\n",
    "fig"
   ]
  },
  {
   "cell_type": "markdown",
   "metadata": {},
   "source": [
    "Building the Network\n",
    "\n",
    "Now let's go ahead and build our network. We'll use two 2-D convolutional layers followed by two fully-connected (or linear) layers. As activation function we'll choose rectified linear units (ReLUs in short) and as a means of regularization we'll use two dropout layers. In PyTorch a nice way to build a network is by creating a new class for the network we wish to build. Let's import a few submodules here for more readable code."
   ]
  },
  {
   "cell_type": "code",
   "execution_count": 119,
   "metadata": {},
   "outputs": [],
   "source": [
    "import torch.nn as nn\n",
    "import torch.nn.functional as F\n",
    "import torch.optim as optim"
   ]
  },
  {
   "cell_type": "code",
   "execution_count": 120,
   "metadata": {},
   "outputs": [],
   "source": [
    "class Net(nn.Module):\n",
    "    def __init__(self):\n",
    "        super(Net, self).__init__()\n",
    "        self.conv1 = nn.Conv2d(1, 10, kernel_size=5)\n",
    "        self.conv2 = nn.Conv2d(10, 20, kernel_size=5)\n",
    "        self.conv2_drop = nn.Dropout2d()\n",
    "        self.fc1 = nn.Linear(320, 50)\n",
    "        self.fc2 = nn.Linear(50, 10)\n",
    "\n",
    "    def forward(self, x):\n",
    "        x = F.relu(F.max_pool2d(self.conv1(x), 2))\n",
    "        x = F.relu(F.max_pool2d(self.conv2_drop(self.conv2(x)), 2))\n",
    "        x = x.view(-1, 320)\n",
    "        x = F.relu(self.fc1(x))\n",
    "        x = F.dropout(x, training=self.training)\n",
    "        x = self.fc2(x)\n",
    "        return F.log_softmax(x)"
   ]
  },
  {
   "cell_type": "code",
   "execution_count": 121,
   "metadata": {},
   "outputs": [],
   "source": [
    "network = Net()\n",
    "optimizer = optim.SGD(network.parameters(), lr=learning_rate,\n",
    "                      momentum=momentum)"
   ]
  },
  {
   "cell_type": "code",
   "execution_count": 122,
   "metadata": {},
   "outputs": [],
   "source": [
    "train_losses = []\n",
    "train_counter = []\n",
    "test_losses = []\n",
    "test_counter = [i*len(train_loader.dataset) for i in range(n_epochs + 1)]"
   ]
  },
  {
   "cell_type": "markdown",
   "metadata": {},
   "source": [
    "We'll run our test loop once before even starting the training to see what accuracy/loss we achieve just with randomly initialized network parameters. Can you guess what our accuracy might look like for this case?"
   ]
  },
  {
   "cell_type": "code",
   "execution_count": 123,
   "metadata": {},
   "outputs": [],
   "source": [
    "def train(epoch):\n",
    "  network.train()\n",
    "  for batch_idx, (data, target) in enumerate(train_loader):\n",
    "    optimizer.zero_grad()\n",
    "    output = network(data)\n",
    "    loss = F.nll_loss(output, target)\n",
    "    loss.backward()\n",
    "    optimizer.step()\n",
    "    if batch_idx % log_interval == 0:\n",
    "      print('Train Epoch: {} [{}/{} ({:.0f}%)]\\tLoss: {:.6f}'.format(\n",
    "        epoch, batch_idx * len(data), len(train_loader.dataset),\n",
    "        100. * batch_idx / len(train_loader), loss.item()))\n",
    "      train_losses.append(loss.item())\n",
    "      train_counter.append(\n",
    "        (batch_idx*64) + ((epoch-1)*len(train_loader.dataset)))\n",
    "      torch.save(network.state_dict(), './model.pth')\n",
    "      torch.save(optimizer.state_dict(), './optimizer.pth')\n",
    "    \n",
    "def test():\n",
    "  network.eval()\n",
    "  test_loss = 0\n",
    "  correct = 0\n",
    "  with torch.no_grad():\n",
    "    for data, target in test_loader:\n",
    "      output = network(data)\n",
    "      test_loss += F.nll_loss(output, target, size_average=False).item()\n",
    "      pred = output.data.max(1, keepdim=True)[1]\n",
    "      correct += pred.eq(target.data.view_as(pred)).sum()\n",
    "  test_loss /= len(test_loader.dataset)\n",
    "  test_losses.append(test_loss)\n",
    "  print('\\nTest set: Avg. loss: {:.4f}, Accuracy: {}/{} ({:.0f}%)\\n'.format(\n",
    "    test_loss, correct, len(test_loader.dataset),\n",
    "    100. * correct / len(test_loader.dataset)))"
   ]
  },
  {
   "cell_type": "markdown",
   "metadata": {},
   "source": [
    "Neural network modules as well as optimizers have the ability to save and load their internal state using .state_dict(). With this we can continue training from previously saved state dicts if needed - we'd just need to call .load_state_dict(state_dict). \n",
    "\n",
    "Now for our test loop. Here we sum up the test loss and keep track of correctly classified digits to compute the accuracy of the network. "
   ]
  },
  {
   "cell_type": "markdown",
   "metadata": {},
   "source": [
    "def test():\n",
    "  network.eval()\n",
    "  test_loss = 0\n",
    "  correct = 0\n",
    "  with torch.no_grad():\n",
    "    for data, target in test_loader:\n",
    "      output = network(data)\n",
    "      test_loss += F.nll_loss(output, target, size_average=False).item()\n",
    "      pred = output.data.max(1, keepdim=True)[1]\n",
    "      correct += pred.eq(target.data.view_as(pred)).sum()\n",
    "  test_loss /= len(test_loader.dataset)\n",
    "  test_losses.append(test_loss)\n",
    "  print('\\nTest set: Avg. loss: {:.4f}, Accuracy: {}/{} ({:.0f}%)\\n'.format(\n",
    "    test_loss, correct, len(test_loader.dataset),\n",
    "    100. * correct / len(test_loader.dataset)))"
   ]
  },
  {
   "cell_type": "markdown",
   "metadata": {},
   "source": [
    "Using the context manager no_grad() we can avoid storing the computations done producing the output of our network in the computation graph.\n",
    "\n",
    "Time to run the training! We'll manually add a test() call before we loop over n_epochs to evaluate our model with randomly initialized parameters."
   ]
  },
  {
   "cell_type": "code",
   "execution_count": 124,
   "metadata": {},
   "outputs": [
    {
     "name": "stderr",
     "output_type": "stream",
     "text": [
      "C:\\Users\\Sebastain\\AppData\\Local\\Temp\\ipykernel_8008\\161431047.py:17: UserWarning: Implicit dimension choice for log_softmax has been deprecated. Change the call to include dim=X as an argument.\n",
      "  return F.log_softmax(x)\n"
     ]
    },
    {
     "name": "stdout",
     "output_type": "stream",
     "text": [
      "Train Epoch: 1 [0/60000 (0%)]\tLoss: 2.319280\n",
      "Train Epoch: 1 [640/60000 (1%)]\tLoss: 2.290954\n",
      "Train Epoch: 1 [1280/60000 (2%)]\tLoss: 2.318535\n",
      "Train Epoch: 1 [1920/60000 (3%)]\tLoss: 2.261000\n",
      "Train Epoch: 1 [2560/60000 (4%)]\tLoss: 2.259137\n",
      "Train Epoch: 1 [3200/60000 (5%)]\tLoss: 2.229576\n",
      "Train Epoch: 1 [3840/60000 (6%)]\tLoss: 2.196151\n",
      "Train Epoch: 1 [4480/60000 (7%)]\tLoss: 2.181698\n",
      "Train Epoch: 1 [5120/60000 (9%)]\tLoss: 2.088444\n",
      "Train Epoch: 1 [5760/60000 (10%)]\tLoss: 2.014765\n",
      "Train Epoch: 1 [6400/60000 (11%)]\tLoss: 1.818533\n",
      "Train Epoch: 1 [7040/60000 (12%)]\tLoss: 1.822772\n",
      "Train Epoch: 1 [7680/60000 (13%)]\tLoss: 1.838733\n",
      "Train Epoch: 1 [8320/60000 (14%)]\tLoss: 1.530556\n",
      "Train Epoch: 1 [8960/60000 (15%)]\tLoss: 1.738141\n",
      "Train Epoch: 1 [9600/60000 (16%)]\tLoss: 1.420971\n",
      "Train Epoch: 1 [10240/60000 (17%)]\tLoss: 1.369238\n",
      "Train Epoch: 1 [10880/60000 (18%)]\tLoss: 1.335397\n",
      "Train Epoch: 1 [11520/60000 (19%)]\tLoss: 1.182360\n",
      "Train Epoch: 1 [12160/60000 (20%)]\tLoss: 1.056649\n",
      "Train Epoch: 1 [12800/60000 (21%)]\tLoss: 1.085395\n",
      "Train Epoch: 1 [13440/60000 (22%)]\tLoss: 1.043788\n",
      "Train Epoch: 1 [14080/60000 (23%)]\tLoss: 0.979933\n",
      "Train Epoch: 1 [14720/60000 (25%)]\tLoss: 1.015183\n",
      "Train Epoch: 1 [15360/60000 (26%)]\tLoss: 0.937398\n",
      "Train Epoch: 1 [16000/60000 (27%)]\tLoss: 0.883656\n",
      "Train Epoch: 1 [16640/60000 (28%)]\tLoss: 0.789824\n",
      "Train Epoch: 1 [17280/60000 (29%)]\tLoss: 0.984955\n",
      "Train Epoch: 1 [17920/60000 (30%)]\tLoss: 0.983109\n",
      "Train Epoch: 1 [18560/60000 (31%)]\tLoss: 0.960309\n",
      "Train Epoch: 1 [19200/60000 (32%)]\tLoss: 0.972563\n",
      "Train Epoch: 1 [19840/60000 (33%)]\tLoss: 0.952315\n",
      "Train Epoch: 1 [20480/60000 (34%)]\tLoss: 0.702966\n",
      "Train Epoch: 1 [21120/60000 (35%)]\tLoss: 0.849039\n",
      "Train Epoch: 1 [21760/60000 (36%)]\tLoss: 0.646985\n",
      "Train Epoch: 1 [22400/60000 (37%)]\tLoss: 0.733760\n",
      "Train Epoch: 1 [23040/60000 (38%)]\tLoss: 0.847589\n",
      "Train Epoch: 1 [23680/60000 (39%)]\tLoss: 0.614049\n",
      "Train Epoch: 1 [24320/60000 (41%)]\tLoss: 0.989380\n",
      "Train Epoch: 1 [24960/60000 (42%)]\tLoss: 0.526740\n",
      "Train Epoch: 1 [25600/60000 (43%)]\tLoss: 0.717069\n",
      "Train Epoch: 1 [26240/60000 (44%)]\tLoss: 0.704044\n",
      "Train Epoch: 1 [26880/60000 (45%)]\tLoss: 0.826233\n",
      "Train Epoch: 1 [27520/60000 (46%)]\tLoss: 0.829526\n",
      "Train Epoch: 1 [28160/60000 (47%)]\tLoss: 0.580030\n",
      "Train Epoch: 1 [28800/60000 (48%)]\tLoss: 0.618536\n",
      "Train Epoch: 1 [29440/60000 (49%)]\tLoss: 0.806773\n",
      "Train Epoch: 1 [30080/60000 (50%)]\tLoss: 0.423861\n",
      "Train Epoch: 1 [30720/60000 (51%)]\tLoss: 0.516764\n",
      "Train Epoch: 1 [31360/60000 (52%)]\tLoss: 0.556758\n",
      "Train Epoch: 1 [32000/60000 (53%)]\tLoss: 0.569230\n",
      "Train Epoch: 1 [32640/60000 (54%)]\tLoss: 0.596963\n",
      "Train Epoch: 1 [33280/60000 (55%)]\tLoss: 0.676830\n",
      "Train Epoch: 1 [33920/60000 (57%)]\tLoss: 0.643186\n",
      "Train Epoch: 1 [34560/60000 (58%)]\tLoss: 0.419717\n",
      "Train Epoch: 1 [35200/60000 (59%)]\tLoss: 0.733009\n",
      "Train Epoch: 1 [35840/60000 (60%)]\tLoss: 0.525493\n",
      "Train Epoch: 1 [36480/60000 (61%)]\tLoss: 0.437849\n",
      "Train Epoch: 1 [37120/60000 (62%)]\tLoss: 0.675574\n",
      "Train Epoch: 1 [37760/60000 (63%)]\tLoss: 0.580495\n",
      "Train Epoch: 1 [38400/60000 (64%)]\tLoss: 0.598570\n",
      "Train Epoch: 1 [39040/60000 (65%)]\tLoss: 0.524727\n",
      "Train Epoch: 1 [39680/60000 (66%)]\tLoss: 0.486413\n",
      "Train Epoch: 1 [40320/60000 (67%)]\tLoss: 0.618263\n",
      "Train Epoch: 1 [40960/60000 (68%)]\tLoss: 0.548551\n",
      "Train Epoch: 1 [41600/60000 (69%)]\tLoss: 0.805997\n",
      "Train Epoch: 1 [42240/60000 (70%)]\tLoss: 0.533085\n",
      "Train Epoch: 1 [42880/60000 (71%)]\tLoss: 0.552162\n",
      "Train Epoch: 1 [43520/60000 (72%)]\tLoss: 0.674021\n",
      "Train Epoch: 1 [44160/60000 (74%)]\tLoss: 0.562316\n",
      "Train Epoch: 1 [44800/60000 (75%)]\tLoss: 0.467392\n",
      "Train Epoch: 1 [45440/60000 (76%)]\tLoss: 0.443480\n",
      "Train Epoch: 1 [46080/60000 (77%)]\tLoss: 0.641156\n",
      "Train Epoch: 1 [46720/60000 (78%)]\tLoss: 0.455749\n",
      "Train Epoch: 1 [47360/60000 (79%)]\tLoss: 0.490942\n",
      "Train Epoch: 1 [48000/60000 (80%)]\tLoss: 0.518841\n",
      "Train Epoch: 1 [48640/60000 (81%)]\tLoss: 0.389061\n",
      "Train Epoch: 1 [49280/60000 (82%)]\tLoss: 0.626105\n",
      "Train Epoch: 1 [49920/60000 (83%)]\tLoss: 0.451176\n",
      "Train Epoch: 1 [50560/60000 (84%)]\tLoss: 0.371240\n",
      "Train Epoch: 1 [51200/60000 (85%)]\tLoss: 0.658611\n",
      "Train Epoch: 1 [51840/60000 (86%)]\tLoss: 0.394629\n",
      "Train Epoch: 1 [52480/60000 (87%)]\tLoss: 0.348641\n",
      "Train Epoch: 1 [53120/60000 (88%)]\tLoss: 0.387320\n",
      "Train Epoch: 1 [53760/60000 (90%)]\tLoss: 0.590696\n",
      "Train Epoch: 1 [54400/60000 (91%)]\tLoss: 0.401614\n",
      "Train Epoch: 1 [55040/60000 (92%)]\tLoss: 0.450547\n",
      "Train Epoch: 1 [55680/60000 (93%)]\tLoss: 0.375914\n",
      "Train Epoch: 1 [56320/60000 (94%)]\tLoss: 0.765054\n",
      "Train Epoch: 1 [56960/60000 (95%)]\tLoss: 0.463840\n",
      "Train Epoch: 1 [57600/60000 (96%)]\tLoss: 0.493746\n",
      "Train Epoch: 1 [58240/60000 (97%)]\tLoss: 0.322653\n",
      "Train Epoch: 1 [58880/60000 (98%)]\tLoss: 0.704482\n",
      "Train Epoch: 1 [59520/60000 (99%)]\tLoss: 0.368990\n",
      "\n",
      "Test set: Avg. loss: 0.1905, Accuracy: 9444/10000 (94%)\n",
      "\n"
     ]
    }
   ],
   "source": [
    "# test()\n",
    "for epoch in range(1, n_epochs + 1):\n",
    "  train(epoch)\n",
    "  test()"
   ]
  },
  {
   "cell_type": "markdown",
   "metadata": {},
   "source": [
    "Evaluating the Model's Performance\n",
    "\n",
    "And that's it. With just 3 epochs of training we already managed to achieve 97% accuracy on the test set! We started out with randomly initialized parameters and as expected only got about 10% accuracy on the test set before starting the training.\n",
    "\n",
    "Let's plot our training curve."
   ]
  },
  {
   "cell_type": "markdown",
   "metadata": {},
   "source": [
    "fig = plt.figure()\n",
    "plt.plot(train_counter, train_losses, color='blue')\n",
    "plt.scatter(test_counter, test_losses, color='red')\n",
    "plt.legend(['Train Loss', 'Test Loss'], loc='upper right')\n",
    "plt.xlabel('number of training examples seen')\n",
    "plt.ylabel('negative log likelihood loss')\n",
    "fig"
   ]
  },
  {
   "cell_type": "markdown",
   "metadata": {},
   "source": [
    "looks like we could even continue training for a few more epochs!\n",
    "\n",
    "But before that let's again look at a few examples as we did earlier and compare the model's output."
   ]
  },
  {
   "cell_type": "code",
   "execution_count": 125,
   "metadata": {},
   "outputs": [
    {
     "name": "stderr",
     "output_type": "stream",
     "text": [
      "C:\\Users\\Sebastain\\AppData\\Local\\Temp\\ipykernel_8008\\161431047.py:17: UserWarning: Implicit dimension choice for log_softmax has been deprecated. Change the call to include dim=X as an argument.\n",
      "  return F.log_softmax(x)\n"
     ]
    }
   ],
   "source": [
    "with torch.no_grad():\n",
    "  output = network(example_data)"
   ]
  },
  {
   "cell_type": "code",
   "execution_count": 126,
   "metadata": {},
   "outputs": [
    {
     "data": {
      "image/png": "[encoded data removed]",
      "text/plain": [
       "<Figure size 432x288 with 6 Axes>"
      ]
     },
     "execution_count": 126,
     "metadata": {},
     "output_type": "execute_result"
    },
    {
     "data": {
      "image/png": "[encoded data removed]",
      "text/plain": [
       "<Figure size 432x288 with 6 Axes>"
      ]
     },
     "metadata": {},
     "output_type": "display_data"
    }
   ],
   "source": [
    "fig = plt.figure()\n",
    "for i in range(6):\n",
    "  plt.subplot(2,3,i+1)\n",
    "  plt.tight_layout()\n",
    "  plt.imshow(example_data[i][0], cmap='gray', interpolation='none')\n",
    "  plt.title(\"Prediction: {}\".format(\n",
    "    output.data.max(1, keepdim=True)[1][i].item()))\n",
    "  plt.xticks([])\n",
    "  plt.yticks([])\n",
    "fig"
   ]
  },
  {
   "cell_type": "markdown",
   "metadata": {},
   "source": [
    "Continued Training from Checkpoints\n",
    "\n",
    "Now let's continue training the network, or rather see how we can continue training from the state_dicts we saved during our first training run. We'll initialize a new set of network and optimizers."
   ]
  },
  {
   "cell_type": "code",
   "execution_count": 127,
   "metadata": {},
   "outputs": [],
   "source": [
    "continued_network = Net()\n",
    "continued_optimizer = optim.SGD(network.parameters(), lr=learning_rate,\n",
    "                                momentum=momentum)"
   ]
  },
  {
   "cell_type": "markdown",
   "metadata": {},
   "source": [
    "Using .load_state_dict() we can now load the internal state of the network and optimizer when we last saved them."
   ]
  },
  {
   "cell_type": "code",
   "execution_count": 128,
   "metadata": {},
   "outputs": [],
   "source": [
    "network_state_dict = torch.load('model.pth')\n",
    "continued_network.load_state_dict(network_state_dict)\n",
    "\n",
    "optimizer_state_dict = torch.load('optimizer.pth')\n",
    "continued_optimizer.load_state_dict(optimizer_state_dict)"
   ]
  },
  {
   "cell_type": "markdown",
   "metadata": {},
   "source": [
    "Again running a training loop should immediately pick up the training where we left it. To check on that let's simply use the same lists as before to keep track of the loss values. Due to the way we constructed the test counter for the number of training examples seen we manually have to append to it here."
   ]
  },
  {
   "cell_type": "code",
   "execution_count": 129,
   "metadata": {
    "scrolled": false
   },
   "outputs": [
    {
     "name": "stderr",
     "output_type": "stream",
     "text": [
      "C:\\Users\\Sebastain\\AppData\\Local\\Temp\\ipykernel_8008\\161431047.py:17: UserWarning: Implicit dimension choice for log_softmax has been deprecated. Change the call to include dim=X as an argument.\n",
      "  return F.log_softmax(x)\n"
     ]
    },
    {
     "name": "stdout",
     "output_type": "stream",
     "text": [
      "Train Epoch: 11 [0/60000 (0%)]\tLoss: 0.415680\n",
      "Train Epoch: 11 [640/60000 (1%)]\tLoss: 0.354611\n",
      "Train Epoch: 11 [1280/60000 (2%)]\tLoss: 0.444100\n",
      "Train Epoch: 11 [1920/60000 (3%)]\tLoss: 0.444925\n",
      "Train Epoch: 11 [2560/60000 (4%)]\tLoss: 0.645107\n",
      "Train Epoch: 11 [3200/60000 (5%)]\tLoss: 0.311146\n",
      "Train Epoch: 11 [3840/60000 (6%)]\tLoss: 0.256783\n",
      "Train Epoch: 11 [4480/60000 (7%)]\tLoss: 0.217501\n",
      "Train Epoch: 11 [5120/60000 (9%)]\tLoss: 0.383715\n",
      "Train Epoch: 11 [5760/60000 (10%)]\tLoss: 0.428209\n",
      "Train Epoch: 11 [6400/60000 (11%)]\tLoss: 0.601582\n",
      "Train Epoch: 11 [7040/60000 (12%)]\tLoss: 0.253247\n",
      "Train Epoch: 11 [7680/60000 (13%)]\tLoss: 0.457393\n",
      "Train Epoch: 11 [8320/60000 (14%)]\tLoss: 0.321870\n",
      "Train Epoch: 11 [8960/60000 (15%)]\tLoss: 0.275100\n",
      "Train Epoch: 11 [9600/60000 (16%)]\tLoss: 0.299953\n",
      "Train Epoch: 11 [10240/60000 (17%)]\tLoss: 0.460180\n",
      "Train Epoch: 11 [10880/60000 (18%)]\tLoss: 0.667652\n",
      "Train Epoch: 11 [11520/60000 (19%)]\tLoss: 0.296973\n",
      "Train Epoch: 11 [12160/60000 (20%)]\tLoss: 0.492850\n",
      "Train Epoch: 11 [12800/60000 (21%)]\tLoss: 0.370220\n",
      "Train Epoch: 11 [13440/60000 (22%)]\tLoss: 0.461015\n",
      "Train Epoch: 11 [14080/60000 (23%)]\tLoss: 0.285036\n",
      "Train Epoch: 11 [14720/60000 (25%)]\tLoss: 0.451724\n",
      "Train Epoch: 11 [15360/60000 (26%)]\tLoss: 0.422355\n",
      "Train Epoch: 11 [16000/60000 (27%)]\tLoss: 0.521419\n",
      "Train Epoch: 11 [16640/60000 (28%)]\tLoss: 0.694371\n",
      "Train Epoch: 11 [17280/60000 (29%)]\tLoss: 0.323716\n",
      "Train Epoch: 11 [17920/60000 (30%)]\tLoss: 0.308200\n",
      "Train Epoch: 11 [18560/60000 (31%)]\tLoss: 0.471217\n",
      "Train Epoch: 11 [19200/60000 (32%)]\tLoss: 0.386378\n",
      "Train Epoch: 11 [19840/60000 (33%)]\tLoss: 0.406885\n",
      "Train Epoch: 11 [20480/60000 (34%)]\tLoss: 0.328012\n",
      "Train Epoch: 11 [21120/60000 (35%)]\tLoss: 0.568413\n",
      "Train Epoch: 11 [21760/60000 (36%)]\tLoss: 0.375569\n"
     ]
    },
    {
     "ename": "KeyboardInterrupt",
     "evalue": "",
     "output_type": "error",
     "traceback": [
      "\u001b[1;31m---------------------------------------------------------------------------\u001b[0m",
      "\u001b[1;31mKeyboardInterrupt\u001b[0m                         Traceback (most recent call last)",
      "Input \u001b[1;32mIn [129]\u001b[0m, in \u001b[0;36m<cell line: 1>\u001b[1;34m()\u001b[0m\n\u001b[0;32m      1\u001b[0m \u001b[38;5;28;01mfor\u001b[39;00m i \u001b[38;5;129;01min\u001b[39;00m \u001b[38;5;28mrange\u001b[39m(\u001b[38;5;241m11\u001b[39m,\u001b[38;5;241m21\u001b[39m):\n\u001b[0;32m      2\u001b[0m   test_counter\u001b[38;5;241m.\u001b[39mappend(i\u001b[38;5;241m*\u001b[39m\u001b[38;5;28mlen\u001b[39m(train_loader\u001b[38;5;241m.\u001b[39mdataset))\n\u001b[1;32m----> 3\u001b[0m   \u001b[43mtrain\u001b[49m\u001b[43m(\u001b[49m\u001b[43mi\u001b[49m\u001b[43m)\u001b[49m\n\u001b[0;32m      4\u001b[0m   test()\n",
      "Input \u001b[1;32mIn [123]\u001b[0m, in \u001b[0;36mtrain\u001b[1;34m(epoch)\u001b[0m\n\u001b[0;32m      5\u001b[0m output \u001b[38;5;241m=\u001b[39m network(data)\n\u001b[0;32m      6\u001b[0m loss \u001b[38;5;241m=\u001b[39m F\u001b[38;5;241m.\u001b[39mnll_loss(output, target)\n\u001b[1;32m----> 7\u001b[0m \u001b[43mloss\u001b[49m\u001b[38;5;241;43m.\u001b[39;49m\u001b[43mbackward\u001b[49m\u001b[43m(\u001b[49m\u001b[43m)\u001b[49m\n\u001b[0;32m      8\u001b[0m optimizer\u001b[38;5;241m.\u001b[39mstep()\n\u001b[0;32m      9\u001b[0m \u001b[38;5;28;01mif\u001b[39;00m batch_idx \u001b[38;5;241m%\u001b[39m log_interval \u001b[38;5;241m==\u001b[39m \u001b[38;5;241m0\u001b[39m:\n",
      "File \u001b[1;32m~\\anaconda3\\lib\\site-packages\\torch\\_tensor.py:487\u001b[0m, in \u001b[0;36mTensor.backward\u001b[1;34m(self, gradient, retain_graph, create_graph, inputs)\u001b[0m\n\u001b[0;32m    477\u001b[0m \u001b[38;5;28;01mif\u001b[39;00m has_torch_function_unary(\u001b[38;5;28mself\u001b[39m):\n\u001b[0;32m    478\u001b[0m     \u001b[38;5;28;01mreturn\u001b[39;00m handle_torch_function(\n\u001b[0;32m    479\u001b[0m         Tensor\u001b[38;5;241m.\u001b[39mbackward,\n\u001b[0;32m    480\u001b[0m         (\u001b[38;5;28mself\u001b[39m,),\n\u001b[1;32m   (...)\u001b[0m\n\u001b[0;32m    485\u001b[0m         inputs\u001b[38;5;241m=\u001b[39minputs,\n\u001b[0;32m    486\u001b[0m     )\n\u001b[1;32m--> 487\u001b[0m \u001b[43mtorch\u001b[49m\u001b[38;5;241;43m.\u001b[39;49m\u001b[43mautograd\u001b[49m\u001b[38;5;241;43m.\u001b[39;49m\u001b[43mbackward\u001b[49m\u001b[43m(\u001b[49m\n\u001b[0;32m    488\u001b[0m \u001b[43m    \u001b[49m\u001b[38;5;28;43mself\u001b[39;49m\u001b[43m,\u001b[49m\u001b[43m \u001b[49m\u001b[43mgradient\u001b[49m\u001b[43m,\u001b[49m\u001b[43m \u001b[49m\u001b[43mretain_graph\u001b[49m\u001b[43m,\u001b[49m\u001b[43m \u001b[49m\u001b[43mcreate_graph\u001b[49m\u001b[43m,\u001b[49m\u001b[43m \u001b[49m\u001b[43minputs\u001b[49m\u001b[38;5;241;43m=\u001b[39;49m\u001b[43minputs\u001b[49m\n\u001b[0;32m    489\u001b[0m \u001b[43m\u001b[49m\u001b[43m)\u001b[49m\n",
      "File \u001b[1;32m~\\anaconda3\\lib\\site-packages\\torch\\autograd\\__init__.py:197\u001b[0m, in \u001b[0;36mbackward\u001b[1;34m(tensors, grad_tensors, retain_graph, create_graph, grad_variables, inputs)\u001b[0m\n\u001b[0;32m    192\u001b[0m     retain_graph \u001b[38;5;241m=\u001b[39m create_graph\n\u001b[0;32m    194\u001b[0m \u001b[38;5;66;03m# The reason we repeat same the comment below is that\u001b[39;00m\n\u001b[0;32m    195\u001b[0m \u001b[38;5;66;03m# some Python versions print out the first line of a multi-line function\u001b[39;00m\n\u001b[0;32m    196\u001b[0m \u001b[38;5;66;03m# calls in the traceback and some print out the last line\u001b[39;00m\n\u001b[1;32m--> 197\u001b[0m \u001b[43mVariable\u001b[49m\u001b[38;5;241;43m.\u001b[39;49m\u001b[43m_execution_engine\u001b[49m\u001b[38;5;241;43m.\u001b[39;49m\u001b[43mrun_backward\u001b[49m\u001b[43m(\u001b[49m\u001b[43m  \u001b[49m\u001b[38;5;66;43;03m# Calls into the C++ engine to run the backward pass\u001b[39;49;00m\n\u001b[0;32m    198\u001b[0m \u001b[43m    \u001b[49m\u001b[43mtensors\u001b[49m\u001b[43m,\u001b[49m\u001b[43m \u001b[49m\u001b[43mgrad_tensors_\u001b[49m\u001b[43m,\u001b[49m\u001b[43m \u001b[49m\u001b[43mretain_graph\u001b[49m\u001b[43m,\u001b[49m\u001b[43m \u001b[49m\u001b[43mcreate_graph\u001b[49m\u001b[43m,\u001b[49m\u001b[43m \u001b[49m\u001b[43minputs\u001b[49m\u001b[43m,\u001b[49m\n\u001b[0;32m    199\u001b[0m \u001b[43m    \u001b[49m\u001b[43mallow_unreachable\u001b[49m\u001b[38;5;241;43m=\u001b[39;49m\u001b[38;5;28;43;01mTrue\u001b[39;49;00m\u001b[43m,\u001b[49m\u001b[43m \u001b[49m\u001b[43maccumulate_grad\u001b[49m\u001b[38;5;241;43m=\u001b[39;49m\u001b[38;5;28;43;01mTrue\u001b[39;49;00m\u001b[43m)\u001b[49m\n",
      "\u001b[1;31mKeyboardInterrupt\u001b[0m: "
     ]
    }
   ],
   "source": [
    "for i in range(11,21):\n",
    "  test_counter.append(i*len(train_loader.dataset))\n",
    "  train(i)\n",
    "  test()"
   ]
  },
  {
   "cell_type": "code",
   "execution_count": null,
   "metadata": {},
   "outputs": [],
   "source": [
    "test_counter.remove(0)\n",
    "print(test_counter)\n",
    "print(test_losses)"
   ]
  },
  {
   "cell_type": "markdown",
   "metadata": {},
   "source": [
    "Great! We again see a (much slower) increase in test set accuracy from epoch to epoch. Let's visualize this to further inspect the training progress."
   ]
  },
  {
   "cell_type": "code",
   "execution_count": null,
   "metadata": {},
   "outputs": [],
   "source": [
    "fig = plt.figure()\n",
    "plt.plot(train_counter, train_losses, color='blue')\n",
    "plt.scatter(test_counter, test_losses, color='red')\n",
    "plt.legend(['Train Loss', 'Test Loss'], loc='upper right')\n",
    "plt.xlabel('number of training examples seen')\n",
    "plt.ylabel('negative log likelihood loss')\n",
    "fig"
   ]
  },
  {
   "cell_type": "markdown",
   "metadata": {},
   "source": [
    "That still looks like a rather smooth learning curve just as if we initially would've trained for 8 epochs! Remember that we just appended values to the same lists starting from the 5th red dot onward.\n",
    "\n",
    "From this we can conclue two things:\n",
    "\n",
    "1. Continuing from the checkpointed internal state worked as intended.\n",
    "\n",
    "2. We still don't seem to run into overfitting issues! It looks like our dropout layers did a good job regularizing the model."
   ]
  },
  {
   "cell_type": "markdown",
   "metadata": {},
   "source": []
  },
  {
   "cell_type": "code",
   "execution_count": null,
   "metadata": {},
   "outputs": [],
   "source": []
  }
 ],
 "metadata": {
  "kernelspec": {
   "display_name": "Python 3 (ipykernel)",
   "language": "python",
   "name": "python3"
  },
  "language_info": {
   "codemirror_mode": {
    "name": "ipython",
    "version": 3
   },
   "file_extension": ".py",
   "mimetype": "text/x-python",
   "name": "python",
   "nbconvert_exporter": "python",
   "pygments_lexer": "ipython3",
   "version": "3.9.12"
  },
  "vscode": {
   "interpreter": {
    "hash": "3ce2397aef71c0d12f785fd87c0b7fef94ead8d2f4d1a9ae094c6557efed0fcb"
   }
  }
 },
 "nbformat": 4,
 "nbformat_minor": 2
}
