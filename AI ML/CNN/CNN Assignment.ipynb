{
 "cells": [
  {
   "cell_type": "code",
   "execution_count": 1,
   "id": "763f89de",
   "metadata": {},
   "outputs": [],
   "source": [
    "from sklearn.datasets import load_digits\n",
    "from sklearn.model_selection import train_test_split\n",
    "from sklearn.preprocessing import StandardScaler\n",
    "from matplotlib.colors import ListedColormap\n",
    "import matplotlib.pyplot as plt\n",
    "import torch\n",
    "import torch.optim as optim\n",
    "import torch.nn as nn\n",
    "import torch.nn.functional as F\n",
    "from torch.utils.data import DataLoader, TensorDataset,Dataset\n",
    "import numpy as np\n",
    "from sklearn.metrics import accuracy_score, confusion_matrix, precision_recall_curve\n",
    "#Class to load the dataset images from drivce\n",
    "import os\n",
    "import cv2\n",
    "import numpy as np\n",
    "\n",
    "from imutils import paths\n",
    "from sklearn.preprocessing import LabelEncoder\n",
    "from sklearn import preprocessing\n",
    "from sklearn.model_selection import train_test_split\n",
    "import keras\n"
   ]
  },
  {
   "cell_type": "code",
   "execution_count": 2,
   "id": "caa1db09",
   "metadata": {},
   "outputs": [],
   "source": [
    "#for unpacking data\n",
    "def unpickle(file):\n",
    "    import pickle\n",
    "    with open(file, 'rb') as fo:\n",
    "        dict = pickle.load(fo, encoding='latin')\n",
    "    return dict"
   ]
  },
  {
   "cell_type": "code",
   "execution_count": 3,
   "id": "f672503b",
   "metadata": {},
   "outputs": [],
   "source": [
    "#for loading data\n",
    "def load_batch_file(batch_filename):\n",
    "    filepath = os.path.join('./cifar-10-batches-py/', batch_filename)\n",
    "    unpickled = unpickle(filepath)\n",
    "    return unpickled"
   ]
  },
  {
   "cell_type": "code",
   "execution_count": 4,
   "id": "110f6517",
   "metadata": {},
   "outputs": [],
   "source": [
    "batch_size = 32  # for updation of weights in a batch.\n",
    "num_classes = 10  # Number of class for the dataset\n",
    "epochs = 3"
   ]
  },
  {
   "cell_type": "code",
   "execution_count": 11,
   "id": "118f0e20",
   "metadata": {},
   "outputs": [],
   "source": [
    "train_batch_1 = load_batch_file('./data_batch_1')\n",
    "train_batch_2 = load_batch_file('./data_batch_2')\n",
    "train_batch_3 = load_batch_file('./data_batch_3')\n",
    "train_batch_4 = load_batch_file('./data_batch_4')\n",
    "train_batch_5 = load_batch_file('./data_batch_5')\n",
    "test_batch = load_batch_file('./test_batch')\n",
    "\n",
    "x_train = np.concatenate([train_batch_1['data'],train_batch_2['data'],train_batch_3['data'],train_batch_4['data'],train_batch_5['data']])\n",
    "y_train = np.concatenate([train_batch_1['labels'],train_batch_2['labels'],train_batch_3['labels'],train_batch_4['labels'],train_batch_5['labels']])\n",
    "x_test = test_batch['data']\n",
    "y_test = test_batch['labels']\n",
    "\n",
    "le = preprocessing.LabelEncoder()\n",
    "y_test = le.fit_transform(y_test)\n",
    "\n",
    "#reshaping data for convolutional neural netowrks\n",
    "x_train = x_train.reshape(50000,32,32,3) \n",
    "y_train = y_train.reshape(50000,1)\n",
    "x_test = x_test.reshape(10000,32,32,3)\n",
    "y_test = y_test.reshape(10000,1)\n",
    "\n",
    "#converting data to float so we can divide by 255(UNICODE)\n",
    "x_train = x_train.astype('float32')\n",
    "x_test = x_test.astype('float32')\n",
    "x_train /= 255\n",
    "x_test /= 255\n",
    "#categorically converting labels to become binary\n",
    "y_train = keras.utils.to_categorical(y_train, num_classes)\n",
    "y_test = keras.utils.to_categorical(y_test, num_classes)"
   ]
  },
  {
   "cell_type": "code",
   "execution_count": 12,
   "id": "eebd4bf0",
   "metadata": {},
   "outputs": [
    {
     "name": "stdout",
     "output_type": "stream",
     "text": [
      "[[ 59  43  50 ... 140  84  72]\n",
      " [154 126 105 ... 139 142 144]\n",
      " [255 253 253 ...  83  83  84]\n",
      " ...\n",
      " [ 35  40  42 ...  77  66  50]\n",
      " [189 186 185 ... 169 171 171]\n",
      " [229 236 234 ... 173 162 161]]\n",
      "------------------------------\n",
      "[6 9 9 ... 9 1 1]\n",
      "------------------------------\n",
      "[[158 159 165 ... 124 129 110]\n",
      " [235 231 232 ... 178 191 199]\n",
      " [158 158 139 ...   8   3   7]\n",
      " ...\n",
      " [ 20  19  15 ...  50  53  47]\n",
      " [ 25  15  23 ...  80  81  80]\n",
      " [ 73  98  99 ...  94  58  26]]\n",
      "------------------------------\n",
      "[3 8 8 ... 5 1 7]\n"
     ]
    }
   ],
   "source": [
    "print(x_train)\n",
    "print('------------------------------')\n",
    "print(y_train)\n",
    "print('------------------------------')\n",
    "print(x_test)\n",
    "print('------------------------------')\n",
    "print(y_test)\n"
   ]
  },
  {
   "cell_type": "code",
   "execution_count": 11,
   "id": "19cb21a3",
   "metadata": {},
   "outputs": [],
   "source": [
    "from keras.models import Sequential\n",
    "from keras.layers import Dense, Dropout, Activation, Flatten\n",
    "from keras.layers import Conv2D, MaxPooling2D\n",
    "\n",
    "model = Sequential()\n",
    "model.add(Conv2D(32, (3, 3), padding='same',input_shape=x_train.shape[1:])) \n",
    "model.add(Activation('relu'))\n",
    "model.add(Conv2D(32, (3, 3)))\n",
    "model.add(Activation('relu'))\n",
    "model.add(MaxPooling2D(pool_size=(2, 2))) #getting max values from matrices\n",
    "model.add(Dropout(0.25)) #dropping weights\n",
    "\n",
    "model.add(Conv2D(64, (3, 3), padding='same'))\n",
    "model.add(Activation('relu'))\n",
    "model.add(Conv2D(64, (3, 3)))\n",
    "model.add(Activation('relu'))\n",
    "model.add(MaxPooling2D(pool_size=(2, 2))) #getting max values from matrices\n",
    "model.add(Dropout(0.25))\n",
    "\n",
    "model.add(Flatten()) #flattening data\n",
    "model.add(Dense(512)) # connecting neurons deeply\n",
    "model.add(Activation('relu'))\n",
    "model.add(Dropout(0.5))\n",
    "model.add(Dense(num_classes))\n",
    "model.add(Activation('softmax'))"
   ]
  },
  {
   "cell_type": "code",
   "execution_count": 15,
   "id": "1fb53432",
   "metadata": {},
   "outputs": [],
   "source": [
    "#decay = regularization\n",
    "opt = keras.optimizers.RMSprop(learning_rate=0.0001, decay=1e-6)\n",
    "model.compile(loss='categorical_crossentropy',\n",
    "              optimizer=opt,\n",
    "              metrics=['accuracy'])"
   ]
  },
  {
   "cell_type": "code",
   "execution_count": 16,
   "id": "6783b2a4",
   "metadata": {},
   "outputs": [
    {
     "name": "stdout",
     "output_type": "stream",
     "text": [
      "Epoch 1/3\n",
      "1563/1563 [==============================] - 227s 143ms/step - loss: 2.1834 - accuracy: 0.1539 - val_loss: 2.1141 - val_accuracy: 0.1627\n",
      "Epoch 2/3\n",
      "1563/1563 [==============================] - 208s 133ms/step - loss: 1.9723 - accuracy: 0.2200 - val_loss: 1.8788 - val_accuracy: 0.2596\n",
      "Epoch 3/3\n",
      "1563/1563 [==============================] - 202s 130ms/step - loss: 1.8635 - accuracy: 0.2588 - val_loss: 1.8322 - val_accuracy: 0.3013\n"
     ]
    },
    {
     "data": {
      "text/plain": [
       "<keras.callbacks.History at 0x20cb03cd9a0>"
      ]
     },
     "execution_count": 16,
     "metadata": {},
     "output_type": "execute_result"
    }
   ],
   "source": [
    "model.fit(x_train, y_train,batch_size=batch_size,epochs=epochs,validation_data=(x_test, y_test),shuffle=True)"
   ]
  },
  {
   "cell_type": "code",
   "execution_count": 17,
   "id": "5f0b5fe7",
   "metadata": {},
   "outputs": [
    {
     "name": "stdout",
     "output_type": "stream",
     "text": [
      "313/313 [==============================] - 10s 31ms/step - loss: 1.8322 - accuracy: 0.3013\n",
      "Test loss: 1.8322426080703735\n",
      "Test accuracy: 0.3012999892234802\n"
     ]
    }
   ],
   "source": [
    "#evaluating \n",
    "scores = model.evaluate(x_test, y_test, verbose=1)\n",
    "print('Test loss:', scores[0])\n",
    "print('Test accuracy:', scores[1])"
   ]
  },
  {
   "cell_type": "code",
   "execution_count": 18,
   "id": "717ca640",
   "metadata": {},
   "outputs": [
    {
     "name": "stdout",
     "output_type": "stream",
     "text": [
      "313/313 [==============================] - 10s 30ms/step\n"
     ]
    }
   ],
   "source": [
    "#predicting\n",
    "pred = model.predict(x_test)"
   ]
  },
  {
   "cell_type": "code",
   "execution_count": 19,
   "id": "ec6ed93b",
   "metadata": {},
   "outputs": [],
   "source": [
    "#making predictions 1D for accuracy and report\n",
    "pred = np.argmax(pred, axis=1)"
   ]
  },
  {
   "cell_type": "code",
   "execution_count": 20,
   "id": "d094b583",
   "metadata": {},
   "outputs": [],
   "source": [
    "#making testing labels 1D for accuracy and report\n",
    "y_test = np.argmax(y_test,axis=1)"
   ]
  },
  {
   "cell_type": "code",
   "execution_count": 24,
   "id": "58df6bbd",
   "metadata": {},
   "outputs": [],
   "source": [
    "#accuracy\n",
    "accuracy = accuracy_score(y_test, pred) "
   ]
  },
  {
   "cell_type": "code",
   "execution_count": 25,
   "id": "14696372",
   "metadata": {},
   "outputs": [
    {
     "data": {
      "text/plain": [
       "0.3013"
      ]
     },
     "execution_count": 25,
     "metadata": {},
     "output_type": "execute_result"
    }
   ],
   "source": [
    "accuracy"
   ]
  },
  {
   "cell_type": "code",
   "execution_count": 22,
   "id": "f6119be7",
   "metadata": {},
   "outputs": [
    {
     "name": "stderr",
     "output_type": "stream",
     "text": [
      "C:\\Users\\Sebastain\\anaconda3\\lib\\site-packages\\sklearn\\metrics\\_classification.py:1318: UndefinedMetricWarning: Precision and F-score are ill-defined and being set to 0.0 in labels with no predicted samples. Use `zero_division` parameter to control this behavior.\n",
      "  _warn_prf(average, modifier, msg_start, len(result))\n",
      "C:\\Users\\Sebastain\\anaconda3\\lib\\site-packages\\sklearn\\metrics\\_classification.py:1318: UndefinedMetricWarning: Precision and F-score are ill-defined and being set to 0.0 in labels with no predicted samples. Use `zero_division` parameter to control this behavior.\n",
      "  _warn_prf(average, modifier, msg_start, len(result))\n",
      "C:\\Users\\Sebastain\\anaconda3\\lib\\site-packages\\sklearn\\metrics\\_classification.py:1318: UndefinedMetricWarning: Precision and F-score are ill-defined and being set to 0.0 in labels with no predicted samples. Use `zero_division` parameter to control this behavior.\n",
      "  _warn_prf(average, modifier, msg_start, len(result))\n"
     ]
    }
   ],
   "source": [
    "from sklearn.metrics import classification_report\n",
    "\n",
    "report = classification_report(y_test, pred)"
   ]
  },
  {
   "cell_type": "code",
   "execution_count": 23,
   "id": "0a0b1956",
   "metadata": {},
   "outputs": [
    {
     "name": "stdout",
     "output_type": "stream",
     "text": [
      "              precision    recall  f1-score   support\n",
      "\n",
      "           0       0.31      0.20      0.24      1000\n",
      "           1       0.31      0.36      0.33      1000\n",
      "           2       0.27      0.23      0.25      1000\n",
      "           3       0.00      0.00      0.00      1000\n",
      "           4       0.22      0.08      0.12      1000\n",
      "           5       0.23      0.43      0.30      1000\n",
      "           6       0.21      0.04      0.06      1000\n",
      "           7       0.26      0.39      0.31      1000\n",
      "           8       0.40      0.72      0.52      1000\n",
      "           9       0.36      0.56      0.44      1000\n",
      "\n",
      "    accuracy                           0.30     10000\n",
      "   macro avg       0.26      0.30      0.26     10000\n",
      "weighted avg       0.26      0.30      0.26     10000\n",
      "\n"
     ]
    }
   ],
   "source": [
    "print(report)"
   ]
  },
  {
   "cell_type": "code",
   "execution_count": null,
   "id": "fd18a9f5",
   "metadata": {},
   "outputs": [],
   "source": []
  }
 ],
 "metadata": {
  "kernelspec": {
   "display_name": "Python 3 (ipykernel)",
   "language": "python",
   "name": "python3"
  },
  "language_info": {
   "codemirror_mode": {
    "name": "ipython",
    "version": 3
   },
   "file_extension": ".py",
   "mimetype": "text/x-python",
   "name": "python",
   "nbconvert_exporter": "python",
   "pygments_lexer": "ipython3",
   "version": "3.9.12"
  }
 },
 "nbformat": 4,
 "nbformat_minor": 5
}
