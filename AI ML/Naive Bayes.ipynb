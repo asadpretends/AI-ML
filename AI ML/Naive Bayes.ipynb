{
 "cells": [
  {
   "cell_type": "code",
   "execution_count": 232,
   "id": "1b2e199b",
   "metadata": {},
   "outputs": [],
   "source": [
    "##Loading all the required libraries\n",
    "import pandas as pd\n",
    "import numpy as np\n",
    "\n",
    "from sklearn.naive_bayes import MultinomialNB\n",
    "\n",
    "from sklearn.feature_extraction.text import CountVectorizer\n",
    "from sklearn.naive_bayes import MultinomialNB\n",
    "from sklearn.naive_bayes import BernoulliNB\n",
    "from sklearn.model_selection import train_test_split\n",
    "\n",
    "from sklearn.metrics import accuracy_score\n",
    "import time\n",
    "from sklearn.model_selection import train_test_split\n",
    "\n",
    "#library for regular expretion\n",
    "import re\n",
    "from sklearn import preprocessing\n"
   ]
  },
  {
   "cell_type": "code",
   "execution_count": 233,
   "id": "900320f0",
   "metadata": {},
   "outputs": [],
   "source": [
    "data = pd.read_csv(\"Lab08Dataset.csv\")"
   ]
  },
  {
   "cell_type": "code",
   "execution_count": 234,
   "id": "774441bd",
   "metadata": {},
   "outputs": [],
   "source": [
    "le = preprocessing.LabelEncoder()\n",
    "\n",
    "# data['User Review Sentence'] = le.fit_transform(data['User Review Sentence'])\n",
    "data['label'] = le.fit_transform(data['label'])"
   ]
  },
  {
   "cell_type": "code",
   "execution_count": 235,
   "id": "874c0cc8",
   "metadata": {},
   "outputs": [],
   "source": [
    "Words_count = data['User Review Sentence'].str.split().str.len()\n",
    "lower_msg = data['User Review Sentence'].str.lower().str.split()"
   ]
  },
  {
   "cell_type": "code",
   "execution_count": 236,
   "id": "b75aac02",
   "metadata": {},
   "outputs": [],
   "source": [
    "def alpha(tokens):\n",
    "    alphanum =[]\n",
    "    for token in tokens:\n",
    "        new_s = ''.join(c for c in token if c.isalnum())\n",
    "        alphanum.append(new_s)\n",
    "    return alphanum\n",
    "            \n"
   ]
  },
  {
   "cell_type": "code",
   "execution_count": 237,
   "id": "8f05b12b",
   "metadata": {},
   "outputs": [],
   "source": [
    "for i in range(len(lower_msg)):\n",
    "    lower_msg[i] = alpha(lower_msg[i])"
   ]
  },
  {
   "cell_type": "code",
   "execution_count": 238,
   "id": "a51659f5",
   "metadata": {},
   "outputs": [
    {
     "name": "stdout",
     "output_type": "stream",
     "text": [
      "0       [without, this, the, video, calls, could, pote...\n",
      "1       [collects, way, too, much, unneeded, informati...\n",
      "2       [why, exctly, do, you, need, full, read, acces...\n",
      "3                    [more, private, than, fb, messenger]\n",
      "4       [this, app, is, the, best, message, and, chat,...\n",
      "                              ...                        \n",
      "2532          [minimalism, as, to, the, design, is, fine]\n",
      "2533                              [is, blindingly, white]\n",
      "2534                    [the, colors, are, oversaturated]\n",
      "2535             [the, reading, interface, has, improved]\n",
      "2536                                   [horrible, design]\n",
      "Name: User Review Sentence, Length: 2537, dtype: object\n"
     ]
    }
   ],
   "source": [
    "Message = lower_msg\n",
    "print(Message)"
   ]
  },
  {
   "cell_type": "code",
   "execution_count": 239,
   "id": "318da48b",
   "metadata": {},
   "outputs": [],
   "source": [
    "def to_sentence(tokens):\n",
    "    s = \"\"\n",
    "    for token in tokens:\n",
    "        s=s+\" \"+token\n",
    "    return s[1:]"
   ]
  },
  {
   "cell_type": "code",
   "execution_count": 240,
   "id": "ff40d9dc",
   "metadata": {},
   "outputs": [],
   "source": [
    "for i in range(len(lower_msg)):\n",
    "    lower_msg[i] = to_sentence(lower_msg[i])"
   ]
  },
  {
   "cell_type": "code",
   "execution_count": 241,
   "id": "1f946b3b",
   "metadata": {},
   "outputs": [],
   "source": [
    "X = Message\n",
    "Y = data['label']\n",
    "Z = []\n",
    "stopwords = ['the','is','an','a' ,'here','their','threre']\n",
    "for i in X:\n",
    "    X = X.replace(stopwords, '', regex=True)\n",
    "    Z.append(X)\n"
   ]
  },
  {
   "cell_type": "code",
   "execution_count": 242,
   "id": "b6a9c6c8",
   "metadata": {},
   "outputs": [],
   "source": [
    "X_train,X_test,Y_train,Y_test = train_test_split(X,Y,test_size = 0.25)"
   ]
  },
  {
   "cell_type": "code",
   "execution_count": 243,
   "id": "d749a720",
   "metadata": {},
   "outputs": [],
   "source": [
    "from sklearn.feature_extraction.text import CountVectorizer"
   ]
  },
  {
   "cell_type": "code",
   "execution_count": 244,
   "id": "2e63c51a",
   "metadata": {},
   "outputs": [],
   "source": [
    "vec = CountVectorizer().fit(X_train)"
   ]
  },
  {
   "cell_type": "code",
   "execution_count": 213,
   "id": "439964bd",
   "metadata": {},
   "outputs": [],
   "source": [
    "X_train = vec.transform(X_train).toarray()\n",
    "X_test = vec.transform(X_test).toarray()"
   ]
  },
  {
   "cell_type": "code",
   "execution_count": 214,
   "id": "7e7d85a5",
   "metadata": {},
   "outputs": [],
   "source": [
    "from sklearn.naive_bayes import GaussianNB"
   ]
  },
  {
   "cell_type": "code",
   "execution_count": 215,
   "id": "806024c6",
   "metadata": {},
   "outputs": [],
   "source": [
    "model = GaussianNB()\n",
    "model1 = MultinomialNB()\n",
    "model2 = BernoulliNB()"
   ]
  },
  {
   "cell_type": "code",
   "execution_count": 216,
   "id": "831457cf",
   "metadata": {},
   "outputs": [
    {
     "data": {
      "text/plain": [
       "BernoulliNB()"
      ]
     },
     "execution_count": 216,
     "metadata": {},
     "output_type": "execute_result"
    }
   ],
   "source": [
    "#Gaussian\n",
    "model.fit(X_train,Y_train)"
   ]
  },
  {
   "cell_type": "code",
   "execution_count": null,
   "id": "b40e8c8a",
   "metadata": {},
   "outputs": [],
   "source": [
    "#Multinomial\n",
    "model1.fit(X_train,Y_train)"
   ]
  },
  {
   "cell_type": "code",
   "execution_count": null,
   "id": "1bfbb94e",
   "metadata": {},
   "outputs": [],
   "source": [
    "#Bernouli\n",
    "model2.fit(X_train,Y_train)"
   ]
  },
  {
   "cell_type": "code",
   "execution_count": 217,
   "id": "8c68af2d",
   "metadata": {},
   "outputs": [],
   "source": [
    "Y_pred = model.predict(X_test)\n",
    "Y_pred_1 = model1.predict(X_test)\n",
    "Y_pred_2 = model2.predict(X_test)"
   ]
  },
  {
   "cell_type": "code",
   "execution_count": 221,
   "id": "b310dcc3",
   "metadata": {},
   "outputs": [
    {
     "name": "stdout",
     "output_type": "stream",
     "text": [
      "Gaussian: 0.1700787401574803\n",
      "Multinomial: 0.27716535433070866\n",
      "Bernoulli: 0.3417322834645669\n"
     ]
    }
   ],
   "source": [
    "accuracy = accuracy_score(Y_test, Y_pred)\n",
    "accuracy1 =  accuracy_score(Y_test, Y_pred_1)\n",
    "accuracy2 =  accuracy_score(Y_test, Y_pred_2)\n",
    "\n",
    "print('Gaussian:',accuracy)\n",
    "print('Multinomial:',accuracy1)\n",
    "print('Bernoulli:',accuracy2)"
   ]
  },
  {
   "cell_type": "code",
   "execution_count": 226,
   "id": "16bb6c9f",
   "metadata": {},
   "outputs": [],
   "source": [
    "from sklearn.metrics import classification_report"
   ]
  },
  {
   "cell_type": "code",
   "execution_count": 227,
   "id": "3065fcc7",
   "metadata": {},
   "outputs": [
    {
     "name": "stdout",
     "output_type": "stream",
     "text": [
      "              precision    recall  f1-score   support\n",
      "\n",
      "           0       0.18      0.23      0.20        30\n",
      "           1       0.14      0.22      0.17        36\n",
      "           2       0.20      0.24      0.22       139\n",
      "           3       0.11      0.07      0.09       327\n",
      "           4       0.21      0.35      0.27       103\n",
      "\n",
      "    accuracy                           0.17       635\n",
      "   macro avg       0.17      0.22      0.19       635\n",
      "weighted avg       0.15      0.17      0.16       635\n",
      "\n"
     ]
    }
   ],
   "source": [
    "report = classification_report(Y_test, Y_pred)\n",
    "print(report)"
   ]
  },
  {
   "cell_type": "code",
   "execution_count": 228,
   "id": "f1c3e10a",
   "metadata": {},
   "outputs": [
    {
     "name": "stdout",
     "output_type": "stream",
     "text": [
      "              precision    recall  f1-score   support\n",
      "\n",
      "           0       0.20      0.07      0.10        30\n",
      "           1       0.09      0.03      0.04        36\n",
      "           2       0.15      0.15      0.15       139\n",
      "           3       0.32      0.34      0.33       327\n",
      "           4       0.32      0.40      0.35       103\n",
      "\n",
      "    accuracy                           0.28       635\n",
      "   macro avg       0.22      0.20      0.20       635\n",
      "weighted avg       0.26      0.28      0.27       635\n",
      "\n"
     ]
    }
   ],
   "source": [
    "report1 = classification_report(Y_test, Y_pred_1)\n",
    "print(report1)"
   ]
  },
  {
   "cell_type": "code",
   "execution_count": 229,
   "id": "9968940f",
   "metadata": {},
   "outputs": [
    {
     "name": "stdout",
     "output_type": "stream",
     "text": [
      "              precision    recall  f1-score   support\n",
      "\n",
      "           0       0.00      0.00      0.00        30\n",
      "           1       0.00      0.00      0.00        36\n",
      "           2       0.13      0.09      0.10       139\n",
      "           3       0.41      0.58      0.48       327\n",
      "           4       0.21      0.14      0.16       103\n",
      "\n",
      "    accuracy                           0.34       635\n",
      "   macro avg       0.15      0.16      0.15       635\n",
      "weighted avg       0.27      0.34      0.30       635\n",
      "\n"
     ]
    }
   ],
   "source": [
    "report2 = classification_report(Y_test, Y_pred_2)\n",
    "print(report2)"
   ]
  },
  {
   "cell_type": "code",
   "execution_count": null,
   "id": "79f06c7f",
   "metadata": {},
   "outputs": [],
   "source": []
  }
 ],
 "metadata": {
  "kernelspec": {
   "display_name": "Python 3 (ipykernel)",
   "language": "python",
   "name": "python3"
  },
  "language_info": {
   "codemirror_mode": {
    "name": "ipython",
    "version": 3
   },
   "file_extension": ".py",
   "mimetype": "text/x-python",
   "name": "python",
   "nbconvert_exporter": "python",
   "pygments_lexer": "ipython3",
   "version": "3.9.12"
  }
 },
 "nbformat": 4,
 "nbformat_minor": 5
}
